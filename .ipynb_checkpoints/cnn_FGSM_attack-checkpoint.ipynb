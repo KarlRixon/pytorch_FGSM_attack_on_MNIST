{
 "cells": [
  {
   "cell_type": "code",
   "execution_count": 10,
   "metadata": {},
   "outputs": [
    {
     "name": "stderr",
     "output_type": "stream",
     "text": [
      "D:\\anaconda\\envs\\tensorflow-gpu\\lib\\site-packages\\ipykernel_launcher.py:35: UserWarning: Implicit dimension choice for softmax has been deprecated. Change the call to include dim=X as an argument.\n"
     ]
    },
    {
     "data": {
      "image/png": "[encoded data removed]",
      "text/plain": [
       "<Figure size 432x288 with 1 Axes>"
      ]
     },
     "metadata": {
      "needs_background": "light"
     },
     "output_type": "display_data"
    },
    {
     "data": {
      "image/png": "[encoded data removed]",
      "text/plain": [
       "<Figure size 432x288 with 1 Axes>"
      ]
     },
     "metadata": {
      "needs_background": "light"
     },
     "output_type": "display_data"
    },
    {
     "name": "stderr",
     "output_type": "stream",
     "text": [
      "D:\\anaconda\\envs\\tensorflow-gpu\\lib\\site-packages\\ipykernel_launcher.py:55: UserWarning: Implicit dimension choice for softmax has been deprecated. Change the call to include dim=X as an argument.\n"
     ]
    },
    {
     "data": {
      "image/png": "[encoded data removed]",
      "text/plain": [
       "<Figure size 432x288 with 1 Axes>"
      ]
     },
     "metadata": {
      "needs_background": "light"
     },
     "output_type": "display_data"
    }
   ],
   "source": [
    "from models import CNN\n",
    "import torch\n",
    "import torch.nn as nn\n",
    "import torch.nn.functional as F\n",
    "import torchvision.datasets as dataset\n",
    "import torchvision.transforms as transforms\n",
    "import matplotlib.pyplot as plt\n",
    "%matplotlib inline\n",
    "\n",
    "epson = 0.2 #对抗样本强度\n",
    "index = 8\n",
    "#展示不同的图片\n",
    "size = 28*28\n",
    "classes = 10\n",
    "\n",
    "model = CNN()\n",
    "model.load_state_dict(torch.load('CNN.pkl'))\n",
    "\n",
    "test_set = dataset.MNIST(root='../data',\n",
    "                         train=False,\n",
    "                         transform=transforms.Compose([transforms.ToTensor(),\n",
    "                                                       transforms.Normalize((0.1307,),(0.3081,))]),\n",
    "                         download=True)\n",
    "test_loader = torch.utils.data.DataLoader(dataset=test_set, batch_size=1, shuffle=False)\n",
    "\n",
    "i = 0\n",
    "for image, label in test_loader:\n",
    "    if i==index:\n",
    "        # 预测\n",
    "#         image = image.reshape(-1, size)\n",
    "        image.requires_grad_()\n",
    "        output = model(image)\n",
    "        criteria = nn.CrossEntropyLoss()\n",
    "        loss = criteria(output, label)\n",
    "        prob = F.softmax(output)[0][label.item()]*100\n",
    "        _, predicted = torch.max(output.data, 1)\n",
    "        \n",
    "        plt.figure()\n",
    "        plt.imshow(image.reshape(28, 28).detach().numpy(), cmap='gray')\n",
    "        plt.title('original prediction is '+str(predicted.item())+'with confidence {:.2f}%'.format(prob.item()))\n",
    "        plt.show()\n",
    "        \n",
    "        # FGSM生成对抗样本\n",
    "        loss.backward()\n",
    "        pert = epson*image.grad.sign()\n",
    "        plt.imshow(pert.reshape(28, 28).detach().numpy(), cmap='gray')\n",
    "        plt.title('the perturbation')\n",
    "        plt.show()\n",
    "        \n",
    "        # 测试对抗样本效果\n",
    "        new = image+epson*image.grad.sign()\n",
    "        new_output = model(new)\n",
    "        new_loss = criteria(new_output, label)\n",
    "        _, new_pred = torch.max(new_output.data, 1)\n",
    "        new_prob = F.softmax(new_output)[0][new_pred.item()]*100\n",
    "\n",
    "        plt.figure()\n",
    "        plt.imshow(new.reshape(28, 28).detach().numpy(), cmap='gray')\n",
    "        plt.title('after FGSM, the new prediction is '+str(new_pred.item())+' with confidence {:.2f}%'.format(new_prob.item()))\n",
    "        plt.show()\n",
    "        \n",
    "        break\n",
    "        \n",
    "    i += 1"
   ]
  },
  {
   "cell_type": "code",
   "execution_count": null,
   "metadata": {},
   "outputs": [],
   "source": []
  }
 ],
 "metadata": {
  "kernelspec": {
   "display_name": "Python 3",
   "language": "python",
   "name": "python3"
  },
  "language_info": {
   "codemirror_mode": {
    "name": "ipython",
    "version": 3
   },
   "file_extension": ".py",
   "mimetype": "text/x-python",
   "name": "python",
   "nbconvert_exporter": "python",
   "pygments_lexer": "ipython3",
   "version": "3.6.2"
  }
 },
 "nbformat": 4,
 "nbformat_minor": 2
}
